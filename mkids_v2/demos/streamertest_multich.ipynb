{
 "cells": [
  {
   "cell_type": "code",
   "execution_count": 1,
   "id": "87e254ee-4613-4e18-b786-db97db9c14db",
   "metadata": {},
   "outputs": [],
   "source": [
    "import sys\n",
    "# sys.path.append('../qick/qick_lib/')\n",
    "sys.path.append('../soft/')\n",
    "import Scan\n",
    "from mkids import *\n",
    "import matplotlib.pyplot as plt\n",
    "from scipy.signal import find_peaks\n",
    "import datetime\n",
    "today = datetime.datetime.today()\n",
    "import csv\n",
    "from itertools import zip_longest"
   ]
  },
  {
   "cell_type": "code",
   "execution_count": 2,
   "id": "dc3d23e8-d759-491d-9270-1be011a7d3b2",
   "metadata": {},
   "outputs": [
    {
     "data": {
      "application/javascript": [
       "\n",
       "try {\n",
       "require(['notebook/js/codecell'], function(codecell) {\n",
       "  codecell.CodeCell.options_default.highlight_modes[\n",
       "      'magic_text/x-csrc'] = {'reg':[/^%%microblaze/]};\n",
       "  Jupyter.notebook.events.one('kernel_ready.Kernel', function(){\n",
       "      Jupyter.notebook.get_cells().map(function(cell){\n",
       "          if (cell.cell_type == 'code'){ cell.auto_highlight(); } }) ;\n",
       "  });\n",
       "});\n",
       "} catch (e) {};\n"
      ]
     },
     "metadata": {},
     "output_type": "display_data"
    },
    {
     "data": {
      "application/javascript": [
       "\n",
       "try {\n",
       "require(['notebook/js/codecell'], function(codecell) {\n",
       "  codecell.CodeCell.options_default.highlight_modes[\n",
       "      'magic_text/x-csrc'] = {'reg':[/^%%pybind11/]};\n",
       "  Jupyter.notebook.events.one('kernel_ready.Kernel', function(){\n",
       "      Jupyter.notebook.get_cells().map(function(cell){\n",
       "          if (cell.cell_type == 'code'){ cell.auto_highlight(); } }) ;\n",
       "  });\n",
       "});\n",
       "} catch (e) {};\n"
      ]
     },
     "metadata": {},
     "output_type": "display_data"
    }
   ],
   "source": [
    "board = Scan.getBoard()\n",
    "\n",
    "if board == 'zcu111':\n",
    "    bitfile = 'mkids_2x2_kidsim_v1' \n",
    "elif board == 'zcu216':\n",
    "    bitfile = 'mkids_2x2_kidsim_v2'\n",
    "elif board == 'rfsoc4x2':\n",
    "    bitfile = 'mkids_v3'\n",
    "else:\n",
    "    raise Exception(\"Do not know what to do with %s\"%board)\n",
    "scan = Scan.Scan(bitfile, iKids=0, iSimu=0)"
   ]
  },
  {
   "cell_type": "code",
   "execution_count": 3,
   "id": "30039709-1a0b-44bc-b801-95714a936b24",
   "metadata": {},
   "outputs": [
    {
     "name": "stdout",
     "output_type": "stream",
     "text": [
      "       Nyquist Frequency:  2457.6 MHz\n",
      "      Number of channels:  nInCh=64  nOutCh=64\n",
      "      Channel Separation:  19.2 MHz\n",
      "              decimation:  2\n",
      "Sampling frequency fs_ch:  19.2 MHz\n"
     ]
    }
   ],
   "source": [
    "# Print out properties of the firmware\n",
    "print(\"       Nyquist Frequency:  %.1f MHz\"%scan.fNyquist)\n",
    "print(\"      Number of channels:  nInCh=%d  nOutCh=%d\"%(scan.nInCh, scan.nOutCh))\n",
    "print(\"      Channel Separation:  %.1f MHz\"%scan.dfChannel)\n",
    "print(\"              decimation:  %d\"%scan.kidsChain.analysis.decimation)\n",
    "print(\"Sampling frequency fs_ch:  %.1f MHz\"%scan.kidsChain.analysis.fs_ch)\n"
   ]
  },
  {
   "cell_type": "code",
   "execution_count": 4,
   "id": "ab86a771-4583-4cf3-9fe8-8af4ae811929",
   "metadata": {},
   "outputs": [],
   "source": [
    "fMixer = 2505\n",
    "\n",
    "scan.set_mixer(fMixer)\n",
    "\n",
    "scan.simuChain.analysis.qout(2)\n",
    "scan.simuChain.synthesis.qout(2)\n",
    "scan.kidsChain.analysis.qout(2)\n",
    "scan.kidsChain.synthesis.qout(2)\n",
    "\n",
    "kids = scan.kidsChain\n",
    "streamer = getattr(kids.soc, kids.analysis.dict['chain']['streamer'])"
   ]
  },
  {
   "cell_type": "code",
   "execution_count": 5,
   "id": "d756bcaf-1af4-412c-b061-af3bc84e102a",
   "metadata": {},
   "outputs": [],
   "source": [
    "# Place one tone in each PFB channel\n",
    "fTones = scan.outCh2Freq(np.arange(scan.nInCh)+0.1)\n",
    "\n",
    "# fTones = fTones[::8] # one tone in each transfer group\n",
    "\n",
    "decimation = 11"
   ]
  },
  {
   "cell_type": "code",
   "execution_count": 6,
   "id": "d705eec3",
   "metadata": {},
   "outputs": [],
   "source": [
    "kids.set_decimation(decimation)\n",
    "\n",
    "phases = np.zeros(len(fTones))\n",
    "gains = 0.99*np.ones(len(fTones))/len(fTones)\n",
    "cgs = None\n",
    "\n",
    "kids.set_tones(fTones, phases, gains, cgs, verbose=False)"
   ]
  },
  {
   "cell_type": "code",
   "execution_count": 8,
   "id": "18eec3c1",
   "metadata": {},
   "outputs": [
    {
     "data": {
      "text/plain": [
       "array([0, 0, 0, 0, 0, 0, 0, 0, 1, 1, 1, 1, 1, 1, 1, 1, 2, 2, 2, 2, 2, 2,\n",
       "       2, 2, 3, 3, 3, 3, 3, 3, 3, 3, 4, 4, 4, 4, 4, 4, 4, 4, 5, 5, 5, 5,\n",
       "       5, 5, 5, 5, 6, 6, 6, 6, 6, 6, 6, 6, 7, 7, 7, 7, 7, 7, 7, 7])"
      ]
     },
     "execution_count": 8,
     "metadata": {},
     "output_type": "execute_result"
    }
   ],
   "source": [
    "scan.kidsChain.ntrans"
   ]
  },
  {
   "cell_type": "code",
   "execution_count": 7,
   "id": "36adcc78",
   "metadata": {},
   "outputs": [
    {
     "name": "stdout",
     "output_type": "stream",
     "text": [
      "0 0 0 1268\n",
      "1 0 1 1268\n",
      "2 0 2 1268\n",
      "3 0 3 1268\n",
      "4 0 4 1268\n",
      "5 0 5 1268\n",
      "6 0 6 1268\n",
      "7 0 7 1268\n",
      "8 1 0 1248\n",
      "9 1 1 1248\n",
      "10 1 2 1248\n",
      "11 1 3 1248\n",
      "12 1 4 1248\n",
      "13 1 5 1248\n",
      "14 1 6 1248\n",
      "15 1 7 1248\n",
      "16 2 0 1247\n",
      "17 2 1 1247\n",
      "18 2 2 1247\n",
      "19 2 3 1247\n",
      "20 2 4 1247\n",
      "21 2 5 1247\n",
      "22 2 6 1247\n",
      "23 2 7 1247\n",
      "24 3 0 1247\n",
      "25 3 1 1247\n",
      "26 3 2 1247\n",
      "27 3 3 1247\n",
      "28 3 4 1247\n",
      "29 3 5 1247\n",
      "30 3 6 1247\n",
      "31 3 7 1247\n",
      "32 4 0 1247\n",
      "33 4 1 1247\n",
      "34 4 2 1247\n",
      "35 4 3 1247\n",
      "36 4 4 1247\n",
      "37 4 5 1247\n",
      "38 4 6 1247\n",
      "39 4 7 1247\n",
      "40 5 0 1247\n",
      "41 5 1 1247\n",
      "42 5 2 1247\n",
      "43 5 3 1247\n",
      "44 5 4 1247\n",
      "45 5 5 1247\n",
      "46 5 6 1247\n",
      "47 5 7 1247\n",
      "48 6 0 1248\n",
      "49 6 1 1248\n",
      "50 6 2 1248\n",
      "51 6 3 1248\n",
      "52 6 4 1248\n",
      "53 6 5 1248\n",
      "54 6 6 1248\n",
      "55 6 7 1248\n",
      "56 7 0 1248\n",
      "57 7 1 1248\n",
      "58 7 2 1248\n",
      "59 7 3 1248\n",
      "60 7 4 1248\n",
      "61 7 5 1248\n",
      "62 7 6 1248\n",
      "63 7 7 1248\n"
     ]
    }
   ],
   "source": [
    "d = streamer.get_data_all()['samples']\n",
    "for i, f in enumerate(fTones):\n",
    "    nt = kids.ntrans[i]\n",
    "    idx = kids.idxs[i]\n",
    "    print(i, nt, idx, d[nt][2*idx:2*idx+2].shape[1])"
   ]
  },
  {
   "cell_type": "code",
   "execution_count": 9,
   "id": "c3338b14",
   "metadata": {
    "scrolled": true
   },
   "outputs": [
    {
     "name": "stdout",
     "output_type": "stream",
     "text": [
      "0 (1250,)\n",
      "1 (1250,)\n",
      "2 (1250,)\n",
      "3 (1250,)\n",
      "4 (1250,)\n",
      "5 (1250,)\n",
      "6 (1250,)\n",
      "7 (1250,)\n",
      "8 (1250,)\n",
      "9 (1250,)\n",
      "10 (1250,)\n",
      "11 (1250,)\n",
      "12 (1250,)\n",
      "13 (1250,)\n",
      "14 (1250,)\n",
      "15 (1250,)\n",
      "16 (1250,)\n",
      "17 (1250,)\n",
      "18 (1250,)\n",
      "19 (1250,)\n",
      "20 (1250,)\n",
      "21 (1250,)\n",
      "22 (1250,)\n",
      "23 (1250,)\n",
      "24 (1250,)\n",
      "25 (1250,)\n",
      "26 (1250,)\n",
      "27 (1250,)\n",
      "28 (1250,)\n",
      "29 (1250,)\n",
      "30 (1250,)\n",
      "31 (1250,)\n",
      "32 (1250,)\n",
      "33 (1250,)\n",
      "34 (1250,)\n",
      "35 (1250,)\n",
      "36 (1250,)\n",
      "37 (1250,)\n",
      "38 (1250,)\n",
      "39 (1250,)\n",
      "40 (1250,)\n",
      "41 (1250,)\n",
      "42 (1250,)\n",
      "43 (1250,)\n",
      "44 (1250,)\n",
      "45 (1250,)\n",
      "46 (1250,)\n",
      "47 (1250,)\n",
      "48 (1250,)\n",
      "49 (1250,)\n",
      "50 (1250,)\n",
      "51 (1250,)\n",
      "52 (1250,)\n",
      "53 (1250,)\n",
      "54 (1250,)\n",
      "55 (1250,)\n",
      "56 (1250,)\n",
      "57 (1250,)\n",
      "58 (1250,)\n",
      "59 (1250,)\n",
      "60 (1250,)\n",
      "61 (1250,)\n",
      "62 (1250,)\n",
      "63 (1250,)\n"
     ]
    }
   ],
   "source": [
    "xs = scan.kidsChain.get_xs(mean=False)\n",
    "\n",
    "for i, x in enumerate(xs):\n",
    "    print(i, x.shape)"
   ]
  }
 ],
 "metadata": {
  "kernelspec": {
   "display_name": "Python 3 (ipykernel)",
   "language": "python",
   "name": "python3"
  },
  "language_info": {
   "codemirror_mode": {
    "name": "ipython",
    "version": 3
   },
   "file_extension": ".py",
   "mimetype": "text/x-python",
   "name": "python",
   "nbconvert_exporter": "python",
   "pygments_lexer": "ipython3",
   "version": "3.10.4"
  }
 },
 "nbformat": 4,
 "nbformat_minor": 5
}

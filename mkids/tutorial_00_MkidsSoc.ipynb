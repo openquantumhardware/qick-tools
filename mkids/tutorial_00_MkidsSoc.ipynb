{
 "cells": [
  {
   "cell_type": "code",
   "execution_count": 3,
   "id": "53bb27ab-06d8-4162-9e26-2e9ddfe98964",
   "metadata": {},
   "outputs": [],
   "source": [
    "from mkids import TopSoc\n",
    "from scipy.signal import welch\n",
    "from numpy.fft import fftshift\n",
    "import numpy as np\n",
    "import matplotlib.pyplot as plt"
   ]
  },
  {
   "cell_type": "code",
   "execution_count": 4,
   "id": "34d0a552-2aad-4c25-b464-6b6f85eb022c",
   "metadata": {},
   "outputs": [],
   "source": [
    "# Load bitstream with custom overlay\n",
    "soc = TopSoc(force_init_clks=False)"
   ]
  },
  {
   "cell_type": "code",
   "execution_count": 5,
   "id": "d1a4ce97-2015-430e-bb47-906ac97a0fd6",
   "metadata": {},
   "outputs": [],
   "source": [
    "soc.set_mixer(1000) # MHz\n",
    "fout = 500.3\n",
    "soc.set_outputs([fout], 0.1, equalize=False)\n",
    "soc.set_inputs([fout], decimation=2, downconvert=True, equalize=False)\n",
    "\n",
    "K = soc.input_config['pfb_ch']\n",
    "fs = soc.input_config['fs']\n",
    "fcenter = soc.input_config['center_freq']\n",
    "\n",
    "x_buf = soc.read(average=False)[0]\n"
   ]
  },
  {
   "cell_type": "code",
   "execution_count": 6,
   "id": "5d9138bd-a37b-4627-b9ac-6c675d4610d1",
   "metadata": {},
   "outputs": [
    {
     "name": "stdout",
     "output_type": "stream",
     "text": [
      "(9800, 2)\n",
      "[ 407 1738]\n"
     ]
    }
   ],
   "source": [
    "print(x_buf.shape)\n",
    "print(x_buf[0])"
   ]
  },
  {
   "cell_type": "code",
   "execution_count": 7,
   "id": "cab83bd3-3d1e-419d-9cab-2eed579dc540",
   "metadata": {},
   "outputs": [],
   "source": [
    "x = x_buf.dot([1, 1j])"
   ]
  },
  {
   "cell_type": "code",
   "execution_count": 8,
   "id": "665fd278-8bcc-48d6-bcce-161ce9a778c6",
   "metadata": {},
   "outputs": [
    {
     "name": "stdout",
     "output_type": "stream",
     "text": [
      "(9800,)\n",
      "(407+1738j)\n"
     ]
    }
   ],
   "source": [
    "print(x.shape)\n",
    "print(x[0])"
   ]
  },
  {
   "cell_type": "code",
   "execution_count": null,
   "id": "7b07691d-aab3-44c8-a747-d90ab875a523",
   "metadata": {},
   "outputs": [],
   "source": [
    "fs = soc.input_config['fs']\n",
    "fCenter = soc.input_config['center_freq']\n",
    "f,pxx = fftshift(welch(x, fs=fs, \n",
    "                       nperseg=512, \n",
    "                       detrend=False,\n",
    "                       return_onesided=False),axes=1)\n",
    "db = 10*np.log10(pxx)\n",
    "plt.plot(f+fCenter,db)\n",
    "plt.axvline(fout, c='r',alpha=0.5)\n",
    "plt.xlabel(\"Frequency (MHz)\")\n",
    "plt.ylabel(\"power (db)\")"
   ]
  },
  {
   "cell_type": "code",
   "execution_count": null,
   "id": "b2bb935e-189a-453a-a466-557cfee45f53",
   "metadata": {},
   "outputs": [],
   "source": [
    "x_buf = soc.measure([fout], 0.1, equalize=False, average=False)"
   ]
  },
  {
   "cell_type": "code",
   "execution_count": null,
   "id": "3590f2b3-381a-4866-be91-6e58e87f55e1",
   "metadata": {},
   "outputs": [],
   "source": [
    "x_buf.shape"
   ]
  },
  {
   "cell_type": "code",
   "execution_count": null,
   "id": "afc639aa-686f-485e-8bf7-945d6da4f20c",
   "metadata": {},
   "outputs": [],
   "source": [
    "x = x_buf.dot([1,1j])"
   ]
  },
  {
   "cell_type": "code",
   "execution_count": null,
   "id": "40fce94e-9516-4e5a-a34f-e18d5c27b828",
   "metadata": {},
   "outputs": [],
   "source": [
    "x.shape"
   ]
  },
  {
   "cell_type": "code",
   "execution_count": null,
   "id": "ac92d70e-33cf-4ca3-8af8-e69fb4009bf5",
   "metadata": {},
   "outputs": [],
   "source": [
    "xis = np.real(x[0,:])\n",
    "xjs = np.imag(x[0,:])"
   ]
  },
  {
   "cell_type": "code",
   "execution_count": null,
   "id": "c670d3ba-4464-4487-abb5-3dbccc78a091",
   "metadata": {},
   "outputs": [],
   "source": [
    "plt.plot(xis)\n",
    "plt.plot(xjs)"
   ]
  }
 ],
 "metadata": {
  "kernelspec": {
   "display_name": "Python 3",
   "language": "python",
   "name": "python3"
  },
  "language_info": {
   "codemirror_mode": {
    "name": "ipython",
    "version": 3
   },
   "file_extension": ".py",
   "mimetype": "text/x-python",
   "name": "python",
   "nbconvert_exporter": "python",
   "pygments_lexer": "ipython3",
   "version": "3.8.2"
  }
 },
 "nbformat": 4,
 "nbformat_minor": 5
}

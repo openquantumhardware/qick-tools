{
 "cells": [
  {
   "cell_type": "markdown",
   "id": "1e322b29-1361-4bf6-ab24-318ad3bb2238",
   "metadata": {},
   "source": [
    "Demonstrate the base functionality of the firmware.  With a loop-back cable installed from the DAC output to the ADC input, this produces a tone at the output, reads it back, and demodulates back to DC.\n",
    "\n",
    "The TopSoc class chooses the firmware based on the board, ZCU111 or ZCU216.\n",
    "\n",
    "For the ZCU111, the loopback cable is from DAC229_T1_CH2 to ADC224_T0_CH0, (single ended)\n",
    "\n",
    "For the ZCU215, the loopback cables are from  226 CH 0 and 230 CH0.  The P and N are separate, so you need two physical cables.  ADC Vin channels P 0_226 and N 01_226 connect to a tile, LMFB DAC 02. Connectthe LMFB DAC 02 tile to the LMFB DAC 01 tile on the left side of the board.  You need two cables running from that LMFB DAC 01 tile to channels 0_230 and 2_230 in the DAC Vout connector. \n"
   ]
  },
  {
   "cell_type": "code",
   "execution_count": null,
   "id": "53bb27ab-06d8-4162-9e26-2e9ddfe98964",
   "metadata": {},
   "outputs": [],
   "source": [
    "from mkids import TopSoc\n",
    "from scipy.signal import welch\n",
    "from numpy.fft import fftshift\n",
    "import numpy as np\n",
    "import matplotlib.pyplot as plt"
   ]
  },
  {
   "cell_type": "code",
   "execution_count": null,
   "id": "34d0a552-2aad-4c25-b464-6b6f85eb022c",
   "metadata": {},
   "outputs": [],
   "source": [
    "# Load bitstream with custom overlay\n",
    "soc = TopSoc(force_init_clks=True)"
   ]
  },
  {
   "cell_type": "code",
   "execution_count": null,
   "id": "43a675a8-70b4-4890-8f46-1fffb2ff6b86",
   "metadata": {},
   "outputs": [],
   "source": [
    "soc.set_mixer(1000) # MHz\n",
    "foutRequested = 500.3\n",
    "\n",
    "soc.dds_out.alloff()\n",
    "foutQuantized = soc.DF*np.round(foutRequested/soc.DF)\n",
    "print(\"foutRequested, foutQuantized =\",foutRequested, foutQuantized)"
   ]
  },
  {
   "cell_type": "code",
   "execution_count": null,
   "id": "6006cf60-5b33-4ff2-b595-ea3f6f726f4c",
   "metadata": {},
   "outputs": [],
   "source": [
    "# Create an output tone\n",
    "pfb_ch, dds_freq, _, _ = soc.pfb_out.freq2ch(foutQuantized, soc.get_mixer())\n",
    "print(\"output channel =\",pfb_ch)\n",
    "print(\"output DDS freq =\",dds_freq)\n",
    "soc.dds_out.ddscfg(ch=pfb_ch, f=dds_freq, g=0.9, fi=0.0)\n",
    "soc.pfb_out.qout(0)"
   ]
  },
  {
   "cell_type": "code",
   "execution_count": null,
   "id": "96364fbc-3ae4-4077-8c46-f9896aa68288",
   "metadata": {},
   "outputs": [],
   "source": [
    "# Set up the input dds and the streamer to read this tone\n",
    "decimation = 2\n",
    "pfbInQout = 8\n",
    "K, dds_freq, pdb_freq, ch = soc.pfb_in.freq2ch(np.array([foutQuantized]))\n",
    "print(\"K =\",K, \"dds_freq =\",dds_freq)\n",
    "stream, stream_idx = soc.chsel.ch2idx(K)\n",
    "print(\"stream, stream_idx\",stream,stream_idx)\n",
    "inCh, offset = soc.inFreq2chOffset(foutQuantized)\n",
    "print(\"inCh =\",inCh, \"offset =\",offset)\n",
    "ntran, addr, bits = soc.chsel.ch2tran(inCh)\n",
    "num_tran, tran_idx = soc.chsel.set(K)\n",
    "print(\"num_tran, tran_idx\",num_tran,tran_idx)\n",
    "ntranByTone, streamByTone = soc.inFreq2NtranStream(np.array([foutQuantized]))\n",
    "print(\"ntranByTone, streamByTone\",ntranByTone, streamByTone)\n",
    "\n",
    "soc.pfb_in.qout(pfbInQout)\n",
    "soc.ddscic.decimation(decimation)\n",
    "soc.ddscic.dds_outsel(outsel=\"product\")\n",
    "soc.ddscic.set_ddsfreq(ch_id=inCh, f=offset)\n"
   ]
  },
  {
   "cell_type": "code",
   "execution_count": null,
   "id": "751380d0-a4a0-4fa9-96fb-5dd465927e46",
   "metadata": {},
   "outputs": [],
   "source": [
    "nt = 1\n",
    "nsamp = 10000\n",
    "packets = soc.stream.transfer(nt=nt, nsamp=nsamp)\n",
    " "
   ]
  },
  {
   "cell_type": "code",
   "execution_count": null,
   "id": "955f83d6-823e-4b71-94f9-a2c494c14f2e",
   "metadata": {},
   "outputs": [],
   "source": [
    "                             \n",
    "print(\"     packets.shape =\",packets.shape)\n",
    "ntrans = packets[:,:,16]\n",
    "print(\"      ntrans.shape =\",ntrans.shape)\n",
    "xis = packets[:,:,0:16:2]\n",
    "print(\"         xis.shape =\",xis.shape)\n",
    "xqs = packets[:,:,1:17:2]\n",
    "print(\"         xqs.shape =\",xqs.shape)\n",
    "xs = xis + 1j*xqs\n",
    "print(\"          xs.shape =\",xs.shape)"
   ]
  },
  {
   "cell_type": "code",
   "execution_count": null,
   "id": "09990c38-ffbb-4cb0-bcc1-6fb749e76fb4",
   "metadata": {},
   "outputs": [],
   "source": [
    "it = 0\n",
    "iTone = 0\n",
    "inds = ntrans[it] ==  ntranByTone[iTone]\n",
    "temp = xs[it, inds, streamByTone[iTone]]\n",
    "print(\"temp.shape =\",temp.shape)"
   ]
  },
  {
   "cell_type": "code",
   "execution_count": null,
   "id": "a8c98c61-c9e3-46b1-b6df-e89d7a35fc87",
   "metadata": {},
   "outputs": [],
   "source": [
    "plt.plot(np.real(temp), label=\"I\")\n",
    "plt.plot(np.imag(temp), label=\"Q\")"
   ]
  }
 ],
 "metadata": {
  "kernelspec": {
   "display_name": "Python 3",
   "language": "python",
   "name": "python3"
  },
  "language_info": {
   "codemirror_mode": {
    "name": "ipython",
    "version": 3
   },
   "file_extension": ".py",
   "mimetype": "text/x-python",
   "name": "python",
   "nbconvert_exporter": "python",
   "pygments_lexer": "ipython3",
   "version": "3.8.2"
  }
 },
 "nbformat": 4,
 "nbformat_minor": 5
}

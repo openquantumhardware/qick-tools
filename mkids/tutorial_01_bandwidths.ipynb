{
 "cells": [
  {
   "cell_type": "markdown",
   "id": "daefeda3-bf50-4ded-bf1f-dcf183c8fbd5",
   "metadata": {},
   "source": [
    "Print informationabout bandwidths for the board."
   ]
  },
  {
   "cell_type": "code",
   "execution_count": null,
   "id": "9e38a2bf-e593-4db1-8068-c28e41e56178",
   "metadata": {},
   "outputs": [],
   "source": [
    "from mkids import TopSoc\n",
    "soc = TopSoc(force_init_clks=False)\n",
    "soc.info()"
   ]
  }
 ],
 "metadata": {
  "kernelspec": {
   "display_name": "Python 3",
   "language": "python",
   "name": "python3"
  },
  "language_info": {
   "codemirror_mode": {
    "name": "ipython",
    "version": 3
   },
   "file_extension": ".py",
   "mimetype": "text/x-python",
   "name": "python",
   "nbconvert_exporter": "python",
   "pygments_lexer": "ipython3",
   "version": "3.8.2"
  }
 },
 "nbformat": 4,
 "nbformat_minor": 5
}

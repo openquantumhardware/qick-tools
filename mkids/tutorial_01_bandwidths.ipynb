{
 "cells": [
  {
   "cell_type": "code",
   "execution_count": 1,
   "id": "9e38a2bf-e593-4db1-8068-c28e41e56178",
   "metadata": {},
   "outputs": [
    {
     "data": {
      "application/javascript": [
       "\n",
       "try {\n",
       "require(['notebook/js/codecell'], function(codecell) {\n",
       "  codecell.CodeCell.options_default.highlight_modes[\n",
       "      'magic_text/x-csrc'] = {'reg':[/^%%microblaze/]};\n",
       "  Jupyter.notebook.events.one('kernel_ready.Kernel', function(){\n",
       "      Jupyter.notebook.get_cells().map(function(cell){\n",
       "          if (cell.cell_type == 'code'){ cell.auto_highlight(); } }) ;\n",
       "  });\n",
       "});\n",
       "} catch (e) {};\n"
      ]
     },
     "metadata": {},
     "output_type": "display_data"
    },
    {
     "data": {
      "application/javascript": [
       "\n",
       "try {\n",
       "require(['notebook/js/codecell'], function(codecell) {\n",
       "  codecell.CodeCell.options_default.highlight_modes[\n",
       "      'magic_text/x-csrc'] = {'reg':[/^%%pybind11/]};\n",
       "  Jupyter.notebook.events.one('kernel_ready.Kernel', function(){\n",
       "      Jupyter.notebook.get_cells().map(function(cell){\n",
       "          if (cell.cell_type == 'code'){ cell.auto_highlight(); } }) ;\n",
       "  });\n",
       "});\n",
       "} catch (e) {};\n"
      ]
     },
     "metadata": {},
     "output_type": "display_data"
    },
    {
     "name": "stdout",
     "output_type": "stream",
     "text": [
      "Board model: ZCU111\n",
      "Input:\n",
      "         number of input channels:    4096\n",
      "         input sampling frequency: 4096.00 MHz\n",
      "  bandwidth of each input channel:    1.00 MHz\n",
      "   spacing between input channels:    0.50 MHz\n",
      "            total input bandwidth: 2048.00 MHz\n",
      "Output:\n",
      "        number of output channels:     512\n",
      "        output sampling frequency: 1024.00 MHz\n",
      " bandwidth of each output channel:    4.00 MHz\n",
      "  spacing between output channels:    2.00 MHz\n",
      "           total output bandwidth: 1024.00 MHz\n",
      "\n",
      "      frequency quantization size: 61.035156 Hz\n"
     ]
    }
   ],
   "source": [
    "from mkids import TopSoc\n",
    "soc = TopSoc(force_init_clks=False)\n",
    "soc.info()"
   ]
  },
  {
   "cell_type": "code",
   "execution_count": 2,
   "id": "55586358-0f1c-41c3-93f4-0b9c863e3322",
   "metadata": {},
   "outputs": [
    {
     "data": {
      "text/plain": [
       "<bound method TopSoc.info of <mkids.TopSoc object at 0xffffa97ead00>>"
      ]
     },
     "execution_count": 2,
     "metadata": {},
     "output_type": "execute_result"
    }
   ],
   "source": [
    "\n",
    "soc.info"
   ]
  },
  {
   "cell_type": "code",
   "execution_count": null,
   "id": "ea7c67b1-6002-46a3-a68c-7b13ca4fd7c7",
   "metadata": {},
   "outputs": [],
   "source": []
  }
 ],
 "metadata": {
  "kernelspec": {
   "display_name": "Python 3",
   "language": "python",
   "name": "python3"
  },
  "language_info": {
   "codemirror_mode": {
    "name": "ipython",
    "version": 3
   },
   "file_extension": ".py",
   "mimetype": "text/x-python",
   "name": "python",
   "nbconvert_exporter": "python",
   "pygments_lexer": "ipython3",
   "version": "3.8.2"
  }
 },
 "nbformat": 4,
 "nbformat_minor": 5
}

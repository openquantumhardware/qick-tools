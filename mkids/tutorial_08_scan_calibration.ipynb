{
 "cells": [
  {
   "cell_type": "markdown",
   "id": "41ded41e-d25b-40b4-966e-9d94851dddf0",
   "metadata": {},
   "source": [
    "Demonstrate making and applying calibration of phase and amplitude for a scan.\n",
    "\n",
    "In general, the \"calbration\" data are calculated with a direct loop-back and then are applied to data collected while connected to actual resonators."
   ]
  },
  {
   "cell_type": "code",
   "execution_count": null,
   "id": "0396b8c1-223b-408b-9338-9b0ed2fe1d07",
   "metadata": {},
   "outputs": [],
   "source": [
    "import importlib\n",
    "from mkids import TopSoc\n",
    "import numpy as np\n",
    "import matplotlib.pyplot as plt\n",
    "import Scan\n",
    "soc = TopSoc()"
   ]
  },
  {
   "cell_type": "code",
   "execution_count": null,
   "id": "c7a78822-f64e-4f9d-8482-ebfdd7f4de90",
   "metadata": {},
   "outputs": [],
   "source": [
    "# Define the area to calibrate, based on an (arbitrary) mixer setting\n",
    "fMixer = soc.fsIn/2/2\n",
    "soc.set_mixer(fMixer)\n",
    "f0 = fMixer + 85.4\n",
    "f1 = fMixer + 95.6\n",
    "fTone = 0.5*(f0+f1)"
   ]
  },
  {
   "cell_type": "code",
   "execution_count": null,
   "id": "116fb512-1225-4f39-accb-4ef8f1823b7b",
   "metadata": {},
   "outputs": [],
   "source": [
    "# Measure the nominal delay near fTone\n",
    "scan = Scan.Scan(soc)\n",
    "outCh = scan.soc.outFreq2ch(fTone)\n",
    "print(\"measure nominal dealy for fTone=%f  outCh=%d\"%(fTone, outCh))\n",
    "nominalDelay = scan.measureNominalDelay(outCh, decimation=2, doProgress=True, doPlot=True)"
   ]
  },
  {
   "cell_type": "code",
   "execution_count": null,
   "id": "af172583-c3eb-4275-916d-8b9a05dbdd5f",
   "metadata": {},
   "outputs": [],
   "source": [
    "# Make a calibration with nt transfers at nf frequencies, with the nominalDelay correction applied\n",
    "nt,nf = 10,201\n",
    "calibration = scan.makeCalibration(fMixer, f0, f1, nf=nf, nt=nt, doProgress=True,\n",
    "                            nominalDelay=nominalDelay)\n",
    "fscan = calibration['fscan']\n",
    "print(\"delayApplied =\",fscan['delayApplied'])\n"
   ]
  },
  {
   "cell_type": "code",
   "execution_count": null,
   "id": "69421eda-7428-41da-b64d-f6e8e1199c32",
   "metadata": {},
   "outputs": [],
   "source": [
    "# Take a look at part of the calibration data, for one of the PFB bins\n",
    "iTone = 2\n",
    "Scan.fscanPlot(fscan, iTone)\n"
   ]
  },
  {
   "cell_type": "code",
   "execution_count": null,
   "id": "77e154ac-02f1-43e1-a969-69b36e5c5821",
   "metadata": {},
   "outputs": [],
   "source": [
    "# For convenience, arrange these points as a single spectrum\n",
    "spectrum = Scan.fscanToSpectrum(fscan)\n",
    "# These frequencies define where there will be discontinuities in I,Q values\n",
    "fList = scan.makeFList(fMixer, f0, f1)\n"
   ]
  },
  {
   "cell_type": "code",
   "execution_count": null,
   "id": "facb1e20-092b-4cad-94ac-ef5f29d094cd",
   "metadata": {},
   "outputs": [],
   "source": [
    "# Plot the amplitudes, along with vertical lines showing where discontinuities are.  The horizontal green line shows the frequency range requested\n",
    "plt.plot(spectrum[0],spectrum[1])\n",
    "for f in fList:\n",
    "    plt.axvline(f,color='r', alpha=0.4)\n",
    "aMean = spectrum[1].mean()\n",
    "plt.plot([f0,f1],[aMean,aMean], 'g')\n",
    "plt.xlabel(\"frequency (MHz)\")"
   ]
  },
  {
   "cell_type": "code",
   "execution_count": null,
   "id": "9d456501-87be-456c-bc5d-8048d2a31c7c",
   "metadata": {},
   "outputs": [],
   "source": [
    "# Plot the phases, along with vertical lines showing where discontinuities are\n",
    "plt.plot(spectrum[0],spectrum[2])\n",
    "print(\"f0 =\",f0)\n",
    "print(\"f1 =\",f1)\n",
    "for f in fList:\n",
    "    plt.axvline(f,color='r', alpha=0.5)\n",
    "pMean = spectrum[2].mean()\n",
    "plt.plot([f0,f1],[pMean, pMean], 'g')\n",
    "plt.xlabel(\"frequency (MHz)\")"
   ]
  },
  {
   "cell_type": "code",
   "execution_count": null,
   "id": "9ac38e22-dcef-4a2b-8640-06c1b2fed1b1",
   "metadata": {},
   "outputs": [],
   "source": [
    "# zoom in a bit and show I, Q values and discontinuities\n",
    "fMiddle = 0.5*(f0+f1)\n",
    "fStart = fMiddle-2.3\n",
    "fEnd = fMiddle+1.4\n",
    "inds = (spectrum[0] > fStart ) & (spectrum[0] < fEnd)\n",
    "sx = spectrum[1]*np.exp(1j*spectrum[2])\n",
    "si = np.real(sx)\n",
    "sq = np.imag(sx)\n",
    "plt.plot(spectrum[0][inds],si[inds], ',', label=\"I\")\n",
    "plt.plot(spectrum[0][inds],sq[inds], ',', label=\"Q\")\n",
    "for f in fList:\n",
    "    plt.axvline(f,color='r', alpha=0.2)\n",
    "plt.xlim((fStart,fEnd))\n",
    "plt.legend()\n",
    "plt.xlabel(\"frequency (MHz)\")\n",
    "plt.ylabel(\"values [ADUs]\")"
   ]
  },
  {
   "cell_type": "code",
   "execution_count": null,
   "id": "e812b864-1d30-4c8e-9199-e6e20b354680",
   "metadata": {},
   "outputs": [],
   "source": [
    "# Pretend we have a few frequencies we want to study.  Define tones of equal amplitude and random phases and scan\n",
    "nTones = 4\n",
    "testFreqs = fStart + 2.345*np.arange(nTones)\n",
    "\n",
    "testAmps = 0.9*np.ones(len(testFreqs))/len(testFreqs)\n",
    "np.random.seed(1234991)\n",
    "testFis = np.random.uniform(0, 2*np.pi, size=len(testFreqs))\n",
    "bandwidth = 0.4 # MHz\n",
    "nf = 50\n",
    "decimation = 2\n",
    "nt = 3\n",
    "doProgress = True\n",
    "\n",
    "testFScan = scan.fscan(testFreqs, testAmps, testFis, bandwidth, nf, decimation,nt, doProgress=doProgress)\n"
   ]
  },
  {
   "cell_type": "code",
   "execution_count": null,
   "id": "4d682dde-281b-44f5-82c9-b821a8986faf",
   "metadata": {},
   "outputs": [],
   "source": [
    "# Plot the measured amplitude,phase of one of the tones\n",
    "Scan.fscanPlot(testFScan, 0)"
   ]
  },
  {
   "cell_type": "code",
   "execution_count": null,
   "id": "7b28cb63-bc07-4b31-9e1b-bd42141d713b",
   "metadata": {},
   "outputs": [],
   "source": [
    "# Apply the calibration\n",
    "tfsCalib = Scan.applyCalibration(testFScan, calibration, amplitudeMax=5000)\n"
   ]
  },
  {
   "cell_type": "code",
   "execution_count": null,
   "id": "b061f86f-19d0-4ea0-8703-05120cd810af",
   "metadata": {},
   "outputs": [],
   "source": [
    "# Plot the calibrated amplitude,phase of one of the tones\n",
    "Scan.fscanPlot(tfsCalib, 0)"
   ]
  },
  {
   "cell_type": "code",
   "execution_count": null,
   "id": "3b1fed28-b3c2-49e3-b43a-586a963aec32",
   "metadata": {},
   "outputs": [],
   "source": []
  }
 ],
 "metadata": {
  "kernelspec": {
   "display_name": "Python 3",
   "language": "python",
   "name": "python3"
  },
  "language_info": {
   "codemirror_mode": {
    "name": "ipython",
    "version": 3
   },
   "file_extension": ".py",
   "mimetype": "text/x-python",
   "name": "python",
   "nbconvert_exporter": "python",
   "pygments_lexer": "ipython3",
   "version": "3.8.2"
  }
 },
 "nbformat": 4,
 "nbformat_minor": 5
}

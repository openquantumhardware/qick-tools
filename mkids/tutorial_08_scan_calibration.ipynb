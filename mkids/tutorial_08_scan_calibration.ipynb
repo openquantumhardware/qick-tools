{
 "cells": [
  {
   "cell_type": "markdown",
   "id": "41ded41e-d25b-40b4-966e-9d94851dddf0",
   "metadata": {},
   "source": [
    "Demonstrate making and applying calibration"
   ]
  },
  {
   "cell_type": "code",
   "execution_count": null,
   "id": "0396b8c1-223b-408b-9338-9b0ed2fe1d07",
   "metadata": {},
   "outputs": [],
   "source": [
    "import importlib\n",
    "from mkids import TopSoc\n",
    "import numpy as np\n",
    "import matplotlib.pyplot as plt\n",
    "import Scan\n",
    "soc = TopSoc()"
   ]
  },
  {
   "cell_type": "code",
   "execution_count": null,
   "id": "c7a78822-f64e-4f9d-8482-ebfdd7f4de90",
   "metadata": {},
   "outputs": [],
   "source": [
    "fMixer = soc.fsIn/2/2\n",
    "soc.set_mixer(fMixer)\n",
    "f0 = fMixer + 85.4\n",
    "f1 = fMixer + 95.6\n",
    "fTone = 0.5*(f0+f1)"
   ]
  },
  {
   "cell_type": "code",
   "execution_count": null,
   "id": "116fb512-1225-4f39-accb-4ef8f1823b7b",
   "metadata": {},
   "outputs": [],
   "source": [
    "importlib.reload(Scan)\n",
    "scan = Scan.Scan(soc)\n",
    "outCh = scan.soc.outFreq2ch(fTone)\n",
    "print(\"measure nominal dealy for fTone=%f  outCh=%d\"%(fTone, outCh))\n",
    "nominalDelay = scan.measureNominalDelay(outCh, decimation=2, doProgress=True, doPlot=True)"
   ]
  },
  {
   "cell_type": "code",
   "execution_count": null,
   "id": "af172583-c3eb-4275-916d-8b9a05dbdd5f",
   "metadata": {},
   "outputs": [],
   "source": [
    "nf = 51\n",
    "nf = 201\n",
    "nt = 10\n",
    "nt,nf = 1,51\n",
    "nt,nf = 10,201\n",
    "print(\"nominalDelay =\",nominalDelay)\n",
    "calibration = scan.makeCalibration(fMixer, f0, f1, nf=nf, nt=nt, doProgress=True,\n",
    "                            nominalDelay=nominalDelay)\n",
    "fscan = calibration['fscan']\n",
    "print(\"delayApplied =\",fscan['delayApplied'])\n"
   ]
  },
  {
   "cell_type": "code",
   "execution_count": null,
   "id": "69421eda-7428-41da-b64d-f6e8e1199c32",
   "metadata": {},
   "outputs": [],
   "source": [
    "iTone = 2\n",
    "Scan.fscanPlot(fscan, iTone)\n"
   ]
  },
  {
   "cell_type": "code",
   "execution_count": null,
   "id": "77e154ac-02f1-43e1-a969-69b36e5c5821",
   "metadata": {},
   "outputs": [],
   "source": [
    "spectrum = Scan.fscanToSpectrum(fscan)"
   ]
  },
  {
   "cell_type": "code",
   "execution_count": null,
   "id": "facb1e20-092b-4cad-94ac-ef5f29d094cd",
   "metadata": {},
   "outputs": [],
   "source": [
    "importlib.reload(Scan)\n",
    "scan = Scan.Scan(soc)\n",
    "plt.plot(spectrum[0],spectrum[2])\n",
    "print(\"f0 =\",f0)\n",
    "print(\"f1 =\",f1)\n",
    "fList = scan.makeFList(fMixer, f0, f1)\n",
    "for f in fList:\n",
    "    plt.axvline(f,color='r')\n",
    "plt.plot([f0,f1],[0,0], 'g')"
   ]
  },
  {
   "cell_type": "code",
   "execution_count": null,
   "id": "779a4856-88b0-4756-9a60-21183a128d53",
   "metadata": {},
   "outputs": [],
   "source": [
    "sx = spectrum[1]*np.exp(1j*spectrum[2])\n",
    "si = np.real(sx)\n",
    "sq = np.imag(sx)\n",
    "plt.plot(spectrum[0],si)\n",
    "plt.plot(spectrum[0],sq)\n",
    "for f in fList:\n",
    "    plt.axvline(f,color='r')\n"
   ]
  },
  {
   "cell_type": "code",
   "execution_count": null,
   "id": "9ac38e22-dcef-4a2b-8640-06c1b2fed1b1",
   "metadata": {},
   "outputs": [],
   "source": [
    "fMiddle = 0.5*(f0+f1)\n",
    "fStart = fMiddle-4.3\n",
    "fEnd = fMiddle+2.1\n",
    "inds = (spectrum[0] > fStart ) & (spectrum[0] < fEnd)\n",
    "plt.plot(spectrum[0][inds],si[inds], '.')\n",
    "plt.plot(spectrum[0][inds],sq[inds], '.')\n",
    "for f in fList:\n",
    "    plt.axvline(f,color='r', alpha=0.1)\n",
    "plt.xlim((fStart,fEnd))"
   ]
  },
  {
   "cell_type": "code",
   "execution_count": null,
   "id": "766a2f83-a15d-4e75-b87b-af596bb03d61",
   "metadata": {},
   "outputs": [],
   "source": [
    "\n",
    "freq = 0.5*(fStart+fEnd)\n",
    "iCalib = np.searchsorted(calibration['fList'], freq)-1\n",
    "print(\"iCalib =\",iCalib)\n",
    "fa = calibration['fList'][iCalib]\n",
    "fb = calibration['fList'][iCalib+1]\n",
    "freqs = np.linspace(fa, fb)\n",
    "xfit = calibration['cInterps'][iCalib](freqs)\n",
    "plt.plot(freqs-fa, np.real(xfit), \"o\")\n",
    "plt.plot(freqs-fa, np.imag(xfit), \"o\")\n",
    "plt.xlabel(\"freq-%f\"%fa)"
   ]
  },
  {
   "cell_type": "code",
   "execution_count": null,
   "id": "e812b864-1d30-4c8e-9199-e6e20b354680",
   "metadata": {},
   "outputs": [],
   "source": [
    "# Pretend we have a few frequencies we want to study\n",
    "nTones = 4\n",
    "testFreqs = fStart + 2.345*np.arange(nTones)\n",
    "\n",
    "testAmps = 0.9*np.ones(len(testFreqs))/len(testFreqs)\n",
    "np.random.seed(1234991)\n",
    "testFis = np.random.uniform(0, 2*np.pi, size=len(testFreqs))\n",
    "bandwidth = 0.4 # MHz\n",
    "nf = 50\n",
    "decimation = 2\n",
    "nt = 3\n",
    "doProgress = True\n",
    "\n",
    "testFScan = scan.fscan(testFreqs, testAmps, testFis, bandwidth, nf, decimation,nt, doProgress=doProgress)\n"
   ]
  },
  {
   "cell_type": "code",
   "execution_count": null,
   "id": "4d682dde-281b-44f5-82c9-b821a8986faf",
   "metadata": {},
   "outputs": [],
   "source": [
    "Scan.fscanPlot(testFScan, 0)"
   ]
  },
  {
   "cell_type": "code",
   "execution_count": null,
   "id": "7b28cb63-bc07-4b31-9e1b-bd42141d713b",
   "metadata": {},
   "outputs": [],
   "source": [
    "tfsCalib = Scan.applyCalibration(testFScan, calibration, amplitudeMax=5000)\n"
   ]
  },
  {
   "cell_type": "code",
   "execution_count": null,
   "id": "b061f86f-19d0-4ea0-8703-05120cd810af",
   "metadata": {},
   "outputs": [],
   "source": [
    "Scan.fscanPlot(tfsCalib, 0)"
   ]
  },
  {
   "cell_type": "code",
   "execution_count": null,
   "id": "99477b48-60f3-40d6-9f95-11bf8a38097f",
   "metadata": {},
   "outputs": [],
   "source": []
  }
 ],
 "metadata": {
  "kernelspec": {
   "display_name": "Python 3",
   "language": "python",
   "name": "python3"
  },
  "language_info": {
   "codemirror_mode": {
    "name": "ipython",
    "version": 3
   },
   "file_extension": ".py",
   "mimetype": "text/x-python",
   "name": "python",
   "nbconvert_exporter": "python",
   "pygments_lexer": "ipython3",
   "version": "3.8.2"
  }
 },
 "nbformat": 4,
 "nbformat_minor": 5
}

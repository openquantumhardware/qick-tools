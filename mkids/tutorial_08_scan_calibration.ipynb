{
 "cells": [
  {
   "cell_type": "markdown",
   "id": "41ded41e-d25b-40b4-966e-9d94851dddf0",
   "metadata": {},
   "source": [
    "Demonstrate calibrate with inputPhase=True "
   ]
  },
  {
   "cell_type": "code",
   "execution_count": null,
   "id": "0396b8c1-223b-408b-9338-9b0ed2fe1d07",
   "metadata": {},
   "outputs": [],
   "source": [
    "import importlib\n",
    "from mkids import TopSoc\n",
    "import numpy as np\n",
    "import matplotlib.pyplot as plt\n",
    "import Scan\n",
    "soc = TopSoc()"
   ]
  },
  {
   "cell_type": "code",
   "execution_count": null,
   "id": "c7a78822-f64e-4f9d-8482-ebfdd7f4de90",
   "metadata": {},
   "outputs": [],
   "source": [
    "fMixer = soc.fsIn/2/2\n",
    "soc.set_mixer(fMixer)"
   ]
  },
  {
   "cell_type": "code",
   "execution_count": null,
   "id": "af172583-c3eb-4275-916d-8b9a05dbdd5f",
   "metadata": {},
   "outputs": [],
   "source": [
    "importlib.reload(Scan)\n",
    "scan = Scan.Scan(soc)\n",
    "f0 = fMixer + 85.4\n",
    "f1 = fMixer + 95.6\n",
    "calibration = scan.makeCalibration(fMixer, f0, f1, nf=51, nt=10, doProgress=True)\n",
    "\n"
   ]
  },
  {
   "cell_type": "code",
   "execution_count": null,
   "id": "116fb512-1225-4f39-accb-4ef8f1823b7b",
   "metadata": {},
   "outputs": [],
   "source": [
    "iTone = 2\n",
    "fTone = calibration['freqs'][iTone]\n",
    "outCh = scan.soc.outFreq2ch(fTone)\n",
    "print(fTone, outCh)\n",
    "nominalDelay = scan.measureNominalDelay(outCh, decimation=2, doProgress=True, doPlot=True)"
   ]
  },
  {
   "cell_type": "code",
   "execution_count": null,
   "id": "69421eda-7428-41da-b64d-f6e8e1199c32",
   "metadata": {},
   "outputs": [],
   "source": [
    "Scan.fscanPlot(calibration, iTone)\n"
   ]
  },
  {
   "cell_type": "code",
   "execution_count": null,
   "id": "6f6c3ee7-585c-4597-bf2c-fead74e2f20c",
   "metadata": {},
   "outputs": [],
   "source": [
    "\n",
    "Scan.applyDelay(calibration, nominalDelay)"
   ]
  },
  {
   "cell_type": "code",
   "execution_count": null,
   "id": "b8848347-a2cf-4d66-8b1b-bcde2fe83fa9",
   "metadata": {},
   "outputs": [],
   "source": [
    "Scan.fscanPlot(calibration, iTone)\n"
   ]
  },
  {
   "cell_type": "code",
   "execution_count": null,
   "id": "77e154ac-02f1-43e1-a969-69b36e5c5821",
   "metadata": {},
   "outputs": [],
   "source": [
    "spectrum = Scan.fscanToSpectrum(calibration)"
   ]
  },
  {
   "cell_type": "code",
   "execution_count": null,
   "id": "facb1e20-092b-4cad-94ac-ef5f29d094cd",
   "metadata": {},
   "outputs": [],
   "source": [
    "plt.plot(spectrum[0],spectrum[2])\n",
    "fList = scan.makeFList(fMixer, f0, f1)\n",
    "for f in fList:\n",
    "    plt.axvline(f,color='r')"
   ]
  },
  {
   "cell_type": "code",
   "execution_count": null,
   "id": "184a8c5b-dade-4794-aa2b-7d6de194d976",
   "metadata": {},
   "outputs": [],
   "source": []
  }
 ],
 "metadata": {
  "kernelspec": {
   "display_name": "Python 3",
   "language": "python",
   "name": "python3"
  },
  "language_info": {
   "codemirror_mode": {
    "name": "ipython",
    "version": 3
   },
   "file_extension": ".py",
   "mimetype": "text/x-python",
   "name": "python",
   "nbconvert_exporter": "python",
   "pygments_lexer": "ipython3",
   "version": "3.8.2"
  }
 },
 "nbformat": 4,
 "nbformat_minor": 5
}

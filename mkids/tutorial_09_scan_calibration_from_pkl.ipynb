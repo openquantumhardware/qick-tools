{
 "cells": [
  {
   "cell_type": "markdown",
   "id": "41ded41e-d25b-40b4-966e-9d94851dddf0",
   "metadata": {},
   "source": [
    "Demonstrate applying calibration of phase and amplitude for a scan, where the calibration is read from a file written in the previous tutorial_08_scan_calibration.ipynb\n",
    "\n"
   ]
  },
  {
   "cell_type": "code",
   "execution_count": null,
   "id": "0396b8c1-223b-408b-9338-9b0ed2fe1d07",
   "metadata": {},
   "outputs": [],
   "source": [
    "import importlib\n",
    "from mkids import TopSoc\n",
    "import numpy as np\n",
    "import matplotlib.pyplot as plt\n",
    "import Scan\n",
    "import pickle\n",
    "soc = TopSoc()"
   ]
  },
  {
   "cell_type": "code",
   "execution_count": null,
   "id": "14253286-dfe6-4924-9f5f-5dd26065858f",
   "metadata": {},
   "outputs": [],
   "source": [
    "# Load the calibration written in tutorial_09_scan_calibration.ipynb\n",
    "with open('calibration-demo.pkl', 'rb') as file:\n",
    "    calibration = pickle.load(file)"
   ]
  },
  {
   "cell_type": "code",
   "execution_count": null,
   "id": "fe1d2c48-4ad0-4917-bff0-f3ae23b13d7e",
   "metadata": {},
   "outputs": [],
   "source": [
    "# Show the keys that come with the calibration\n",
    "calibration.keys()"
   ]
  },
  {
   "cell_type": "code",
   "execution_count": null,
   "id": "1c61d657-b65b-4022-8891-0db3062a6f1c",
   "metadata": {},
   "outputs": [],
   "source": [
    "# Set up the mixer based on the setting used in the calibration.\n",
    "soc.set_mixer(calibration['fMixer'])\n",
    "# Choose tone frequencies that are within the range of calibrated frequencies\n",
    "fMin = calibration['fMin']\n",
    "fMax = calibration['fMax']\n",
    "nTones = 3\n",
    "delta = (fMax-fMin)/(nTones+1)\n",
    "\n",
    "np.random.seed(12399512)\n",
    "testFreqs = fMin + delta*(0.5+np.arange(nTones)) + np.random.uniform(0,0.1, size=nTones)\n",
    "testAmps = 0.9*np.ones(len(testFreqs))/len(testFreqs)\n",
    "\n",
    "testFis = np.random.uniform(0, 2*np.pi, size=len(testFreqs))\n",
    "bandwidth = 0.4 # MHz\n",
    "nf = 50\n",
    "decimation = 2\n",
    "nt = 3\n",
    "doProgress = True\n",
    "\n",
    "scan = Scan.Scan(soc)\n",
    "testFScan = scan.fscan(testFreqs, testAmps, testFis, bandwidth, nf, decimation,nt, doProgress=doProgress)\n"
   ]
  },
  {
   "cell_type": "code",
   "execution_count": null,
   "id": "4d682dde-281b-44f5-82c9-b821a8986faf",
   "metadata": {},
   "outputs": [],
   "source": [
    "# Plot the measured amplitude,phase of one of the tones\n",
    "Scan.fscanPlot(testFScan, 0)"
   ]
  },
  {
   "cell_type": "code",
   "execution_count": null,
   "id": "7b28cb63-bc07-4b31-9e1b-bd42141d713b",
   "metadata": {},
   "outputs": [],
   "source": [
    "# Apply the calibration. Notice that you don't need to calculate the nominal delay.\n",
    "tfsCalib = Scan.applyCalibration(testFScan, calibration, amplitudeMax=5000)\n"
   ]
  },
  {
   "cell_type": "code",
   "execution_count": null,
   "id": "b061f86f-19d0-4ea0-8703-05120cd810af",
   "metadata": {},
   "outputs": [],
   "source": [
    "# Plot the calibrated amplitude,phase of one of the tones\n",
    "Scan.fscanPlot(tfsCalib, 0)"
   ]
  },
  {
   "cell_type": "code",
   "execution_count": null,
   "id": "3b1fed28-b3c2-49e3-b43a-586a963aec32",
   "metadata": {},
   "outputs": [],
   "source": []
  }
 ],
 "metadata": {
  "kernelspec": {
   "display_name": "Python 3",
   "language": "python",
   "name": "python3"
  },
  "language_info": {
   "codemirror_mode": {
    "name": "ipython",
    "version": 3
   },
   "file_extension": ".py",
   "mimetype": "text/x-python",
   "name": "python",
   "nbconvert_exporter": "python",
   "pygments_lexer": "ipython3",
   "version": "3.8.2"
  }
 },
 "nbformat": 4,
 "nbformat_minor": 5
}

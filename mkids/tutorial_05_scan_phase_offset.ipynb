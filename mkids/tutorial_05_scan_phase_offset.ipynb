{
 "cells": [
  {
   "cell_type": "markdown",
   "id": "41ded41e-d25b-40b4-966e-9d94851dddf0",
   "metadata": {},
   "source": [
    "Demonstrate that Scan.read subtracts the input phase "
   ]
  },
  {
   "cell_type": "code",
   "execution_count": null,
   "id": "0396b8c1-223b-408b-9338-9b0ed2fe1d07",
   "metadata": {},
   "outputs": [],
   "source": [
    "import importlib\n",
    "from mkids import TopSoc\n",
    "import numpy as np\n",
    "import matplotlib.pyplot as plt\n",
    "import Scan\n",
    "soc = TopSoc()"
   ]
  },
  {
   "cell_type": "code",
   "execution_count": null,
   "id": "78f105fc-77ec-4f88-936c-5cae81e9e690",
   "metadata": {},
   "outputs": [],
   "source": [
    "importlib.reload(Scan)\n",
    "scan = Scan.Scan(soc)"
   ]
  },
  {
   "cell_type": "code",
   "execution_count": null,
   "id": "c7a78822-f64e-4f9d-8482-ebfdd7f4de90",
   "metadata": {},
   "outputs": [],
   "source": [
    "fMixer = soc.fsIn/2/2\n",
    "soc.set_mixer(fMixer)"
   ]
  },
  {
   "cell_type": "code",
   "execution_count": null,
   "id": "b261ada5-1ccd-4951-8206-a453c5f38ebf",
   "metadata": {},
   "outputs": [],
   "source": [
    "fTone = fMixer + soc.fsOut/np.pi + 0.523\n",
    "#fTone = 500.3\n",
    "print(\"fTone =\",fTone)\n",
    "inCh,inOffset = soc.inFreq2chOffset(fTone)\n",
    "outCh,outOffset = soc.outFreq2chOffset(fTone)\n",
    "print(\"fTone = %.6f MHz\"%fTone)\n",
    "print(\"  inCh=%4d    inOffset=%+.6f\"%(inCh, inOffset))\n",
    "print(\" outCh=%4d   outOffset=%+.6f\"%(outCh, outOffset))"
   ]
  },
  {
   "cell_type": "code",
   "execution_count": null,
   "id": "feb65c46-208e-422b-ad20-e48f6b78f4b1",
   "metadata": {},
   "outputs": [],
   "source": [
    "importlib.reload(Scan)\n",
    "scan = Scan.Scan(soc)\n",
    "tones = np.array([fTone, fTone+12.345])\n",
    "amplitudes = 0.9*np.ones(len(tones))/len(tones)\n",
    "fis = 1.2*np.ones(len(tones))\n",
    "scan.setTones(tones, amplitudes, fis)\n",
    "decimation=2\n",
    "scan.prepRead(decimation)\n"
   ]
  },
  {
   "cell_type": "code",
   "execution_count": null,
   "id": "d79a703c-75ea-4513-a58f-bcf2f83c5ad9",
   "metadata": {},
   "outputs": [],
   "source": [
    "x = scan.readAndUnpack()\n",
    "plt.plot(np.angle(x[0][0]))\n"
   ]
  },
  {
   "cell_type": "code",
   "execution_count": null,
   "id": "271596be-9745-4885-aa0e-f9ad24af2715",
   "metadata": {},
   "outputs": [],
   "source": [
    "iSample = np.arange(len(x[0][0]))\n",
    "iBeg = 140\n",
    "iEnd = 160\n",
    "plt.plot(iSample[iBeg:iEnd],np.angle(x[0][0][iBeg:iEnd]), \"o\")"
   ]
  },
  {
   "cell_type": "code",
   "execution_count": null,
   "id": "1f5638c5-08c1-4d70-9315-73f1a81e9f67",
   "metadata": {},
   "outputs": [],
   "source": [
    "importlib.reload(Scan)\n",
    "scan = Scan.Scan(soc)\n",
    "tones = np.array([fTone, fTone+12.345])\n",
    "amplitudes = 0.9*np.ones(len(tones))/len(tones)\n",
    "\n",
    "nt = 3\n",
    "nsamp=10000\n",
    "iBegin = 155\n",
    "average = True\n",
    "subtractInputPhase = True\n",
    "\n",
    "for dphi in np.linspace(0,2,11):\n",
    "    fis = 0.1*np.arange(len(tones)) + dphi\n",
    "    scan.setTones(tones, amplitudes, fis)\n",
    "    decimation=2\n",
    "    scan.prepRead(decimation)\n",
    "    xsa = scan.readAndUnpack(nt, nsamp, average, subtractInputPhase, iBegin)\n",
    "    pt0, = plt.plot(dphi, np.angle(xsa[0]), 'rx', label=\"tone0\")\n",
    "    pt1, = plt.plot(dphi, np.angle(xsa[1]), 'g+', label=\"tone1\")\n",
    "    \n",
    "plt.xlabel(\"generated phase offset [Radians]\")\n",
    "plt.ylabel(\"calibrated phase\")\n",
    "plt.legend(handles=[pt0, pt1])"
   ]
  },
  {
   "cell_type": "code",
   "execution_count": null,
   "id": "4a2849ab-dda7-4160-b23b-b23dd1897622",
   "metadata": {},
   "outputs": [],
   "source": []
  }
 ],
 "metadata": {
  "kernelspec": {
   "display_name": "Python 3",
   "language": "python",
   "name": "python3"
  },
  "language_info": {
   "codemirror_mode": {
    "name": "ipython",
    "version": 3
   },
   "file_extension": ".py",
   "mimetype": "text/x-python",
   "name": "python",
   "nbconvert_exporter": "python",
   "pygments_lexer": "ipython3",
   "version": "3.8.2"
  }
 },
 "nbformat": 4,
 "nbformat_minor": 5
}

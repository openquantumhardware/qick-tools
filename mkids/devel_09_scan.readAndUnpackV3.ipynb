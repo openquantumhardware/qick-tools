{
 "cells": [
  {
   "cell_type": "markdown",
   "id": "41ded41e-d25b-40b4-966e-9d94851dddf0",
   "metadata": {},
   "source": [
    "Examine reading out different address,bit combinations"
   ]
  },
  {
   "cell_type": "code",
   "execution_count": null,
   "id": "0396b8c1-223b-408b-9338-9b0ed2fe1d07",
   "metadata": {},
   "outputs": [],
   "source": [
    "import importlib\n",
    "from mkids import TopSoc\n",
    "import numpy as np\n",
    "import matplotlib.pyplot as plt\n",
    "import Scan\n",
    "import pandas as pd\n",
    "from tqdm.notebook import trange, tqdm\n",
    "\n",
    "soc = TopSoc()"
   ]
  },
  {
   "cell_type": "code",
   "execution_count": null,
   "id": "c7a78822-f64e-4f9d-8482-ebfdd7f4de90",
   "metadata": {},
   "outputs": [],
   "source": [
    "importlib.reload(Scan)\n",
    "scan = Scan.Scan(soc)\n",
    "fMixer = soc.fsIn/2/2 + 0.25\n",
    "scan.soc.set_mixer(fMixer)"
   ]
  },
  {
   "cell_type": "code",
   "execution_count": null,
   "id": "3e698726-1f27-4c7c-8aed-818a26d5702f",
   "metadata": {},
   "outputs": [],
   "source": [
    "# Setup tones that are in nearby channels, to fully test multi-tone readout\n",
    "def addrBit2Inchs(addr, bit):\n",
    "    ntran = 32*addr + bit\n",
    "    chs = ntran*8 + np.arange(8)\n",
    "    return chs\n",
    "\n",
    "version = 0\n",
    "\n",
    "if version==0:\n",
    "    f0 = fMixer + 120.4\n",
    "    nTones = 10\n",
    "    freqs = f0 + 0.1 + np.arange(nTones)*(1.2*soc.fcOut+0.01)\n",
    "elif version==1: # works, except for decrementing one tone\n",
    "    f0 = fMixer + 120.4\n",
    "    nTones = 10\n",
    "    freqs = f0 + 0.1 + np.arange(nTones)*(1.2*soc.fcOut+0.01)\n",
    "    # Move one tone away from the others\n",
    "    freqs[1] += 334.56 # ok to have this line\n",
    "    freqs[3] -= 134.56 # uncommenting this line causes trouble -= but works with +=\n",
    "    freqs[4] += 243.2 # ok to have this line\n",
    "elif version==3:\n",
    "    # Define tones by addr,bit combination.  Choose only 2 of them to avoid collisions\n",
    "    addr = 2\n",
    "    bit = 3\n",
    "    freqs = 0.01 + soc.inCh2FreqCenter(addrBit2Inchs(addr,bit))[1::4] # \n",
    "elif version==4:\n",
    "    addr = 1\n",
    "    bit = 3\n",
    "    freqs = 0.01 + soc.inCh2FreqCenter(addrBit2Inchs(addr,bit))[::4] # \n",
    "    freqs = np.append(freqs, 0.01 + soc.inCh2FreqCenter(addrBit2Inchs(addr+1,bit+1))[2::4]) # \n",
    "    freqs = np.append(freqs, 0.01 + soc.inCh2FreqCenter(addrBit2Inchs(addr+2,bit+2))[1::4]) # \n",
    "else:\n",
    "    raise ValueError()\n",
    "print(freqs)\n",
    "type(freqs)"
   ]
  },
  {
   "cell_type": "code",
   "execution_count": null,
   "id": "6259618a-7e4f-41e2-b746-9274e0c37ce9",
   "metadata": {},
   "outputs": [],
   "source": [
    "def freq2NtransAddrBit(self, freq):\n",
    "    inChs = self.inFreq2ch(freq)\n",
    "    ntrans, addrs, bits = self.chsel.ch2tran(inChs) # bit ranges from 0 to 31 \n",
    "    #addrs = (inChs / (8*32)).astype(int)\n",
    "    #addrs,ks = np.divmod(inChs, 8*32, dtype=int)\n",
    "    return ntrans, addrs, bits\n",
    "\n",
    "def ntranAddrBit2Ch(self, ntran, addr, bit):\n",
    "    ch = ntran*self.chsel.L\n",
    "    print(\"calculated ch =\",ch)\n",
    "    \n"
   ]
  },
  {
   "cell_type": "code",
   "execution_count": null,
   "id": "50564093-8da5-43a9-aef3-4e3b8329110f",
   "metadata": {},
   "outputs": [],
   "source": [
    "freqs = np.sort(freqs)\n",
    "pfbInCh, dds_freq, pfb_freq, ch = soc.pfb_in.freq2ch(freqs)   \n",
    "outCh, outOffset = soc.outFreq2chOffset(freqs)\n",
    "inCh, inOffset = soc.inFreq2chOffset(freqs)\n",
    "ntrans, addrs, bits = freq2NtransAddrBit(soc, freqs)\n",
    "data = np.transpose(np.array([freqs, outCh, outOffset, inCh, inOffset, pfbInCh, dds_freq, pfb_freq,ch, ntrans, addrs, bits]))\n",
    "pd.DataFrame(data, columns=[\"freq\",\"outCh\",\"outOffset\", \"inCh\", \"inOffset\",\"pfbInCh\", \"dds_freq\",\"pfb_freq\",\"ch\", \"ntrans\", \"addrs\",\"bits\"])"
   ]
  },
  {
   "cell_type": "code",
   "execution_count": null,
   "id": "21651b37-7d1f-4a11-a991-f66c4e949933",
   "metadata": {},
   "outputs": [],
   "source": [
    "chatty=False\n",
    "amps = 0.9*np.ones(len(freqs))/len(freqs)\n",
    "fis = 0.5+(0.2*np.arange(len(freqs)))\n",
    "scan.setTones(freqs, amps, fis)\n",
    "decimation = 2\n",
    "scan.prepRead(decimation, verbose=chatty, debugChselSet=True)\n",
    "\n",
    "nt = 1\n",
    "nsamp = 20000\n",
    "truncate = 1000\n",
    "x = scan.readAndUnpack(nt=nt, nsamp=nsamp,unpackVerbose=False, subtractInputPhase=False)\n",
    "packets = scan.p.packets\n",
    "input_config = scan.p.input_config\n",
    "print(\"  number of good samples =\",scan.p.nGoodSamp)\n",
    "print(\"     i16Pattern expected =\",scan.p.input_config['i16Pattern'])\n",
    "print(\"i16Pattern ending actual =\",end=\" [\")\n",
    "for i in range(-2*len(scan.p.input_config['i16Pattern']), 0):\n",
    "    print(scan.p.i16s[i],end=\", \")\n",
    "print(\"]\")\n",
    "for itone in range(len(freqs)):\n",
    "    print(\"mean amplitude of freq=%f MHz tone  %2d = %f\"%(freqs[itone],itone,np.abs(x[itone,:]).mean()))\n",
    "#print(\"mean amplitude of tone -1 =\",np.abs(x[-1,:]).mean())"
   ]
  },
  {
   "cell_type": "code",
   "execution_count": null,
   "id": "b833f62f-ec1a-43b6-8215-c55831c01235",
   "metadata": {},
   "outputs": [],
   "source": [
    "for itone in range(len(freqs)):\n",
    "    plt.plot(np.angle(x[itone,:]),label=itone)\n",
    "plt.legend()\n",
    "plt.ylabel(\"phase [Radians]\")\n",
    "plt.xlabel('sample number')"
   ]
  }
 ],
 "metadata": {
  "kernelspec": {
   "display_name": "Python 3",
   "language": "python",
   "name": "python3"
  },
  "language_info": {
   "codemirror_mode": {
    "name": "ipython",
    "version": 3
   },
   "file_extension": ".py",
   "mimetype": "text/x-python",
   "name": "python",
   "nbconvert_exporter": "python",
   "pygments_lexer": "ipython3",
   "version": "3.8.2"
  }
 },
 "nbformat": 4,
 "nbformat_minor": 5
}

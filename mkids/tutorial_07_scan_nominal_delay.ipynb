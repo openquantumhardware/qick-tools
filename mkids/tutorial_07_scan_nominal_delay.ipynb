{
 "cells": [
  {
   "cell_type": "markdown",
   "id": "41ded41e-d25b-40b4-966e-9d94851dddf0",
   "metadata": {},
   "source": [
    "Demonstrate measuring the nominal delay between the input and output DDS blocks."
   ]
  },
  {
   "cell_type": "code",
   "execution_count": null,
   "id": "0396b8c1-223b-408b-9338-9b0ed2fe1d07",
   "metadata": {},
   "outputs": [],
   "source": [
    "import importlib\n",
    "from mkids import TopSoc\n",
    "import numpy as np\n",
    "import matplotlib.pyplot as plt\n",
    "import Scan\n",
    "soc = TopSoc()"
   ]
  },
  {
   "cell_type": "code",
   "execution_count": null,
   "id": "c7a78822-f64e-4f9d-8482-ebfdd7f4de90",
   "metadata": {},
   "outputs": [],
   "source": [
    "fMixer = soc.fsIn/2/2\n",
    "soc.set_mixer(fMixer)"
   ]
  },
  {
   "cell_type": "code",
   "execution_count": null,
   "id": "2ea27bb1-27f3-4027-b12e-01900ba3296b",
   "metadata": {},
   "outputs": [],
   "source": [
    "importlib.reload(Scan)\n",
    "scan = Scan.Scan(soc)\n",
    "outCh = 123\n",
    "nominalDelay = scan.measureNominalDelay(outCh, decimation=2, doPlot=True)\n"
   ]
  },
  {
   "cell_type": "code",
   "execution_count": null,
   "id": "abd6a1e4-3c2c-4a53-a880-6ceda5142b33",
   "metadata": {},
   "outputs": [],
   "source": [
    "Scan.fscanPlot(scan.mndScan,0)"
   ]
  },
  {
   "cell_type": "code",
   "execution_count": null,
   "id": "eaa67d46-f342-4771-8bc6-e6fe17bf6719",
   "metadata": {},
   "outputs": [],
   "source": [
    "Scan.applyDelay(scan.mndScan, nominalDelay)"
   ]
  }
 ],
 "metadata": {
  "kernelspec": {
   "display_name": "Python 3",
   "language": "python",
   "name": "python3"
  },
  "language_info": {
   "codemirror_mode": {
    "name": "ipython",
    "version": 3
   },
   "file_extension": ".py",
   "mimetype": "text/x-python",
   "name": "python",
   "nbconvert_exporter": "python",
   "pygments_lexer": "ipython3",
   "version": "3.8.2"
  }
 },
 "nbformat": 4,
 "nbformat_minor": 5
}

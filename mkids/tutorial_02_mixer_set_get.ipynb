{
 "cells": [
  {
   "cell_type": "markdown",
   "id": "ab900314-9f68-433d-b514-af6d8c095e1f",
   "metadata": {},
   "source": [
    "Show how to change and recall the mixer frequency."
   ]
  },
  {
   "cell_type": "code",
   "execution_count": null,
   "id": "7dc87aae-7b3c-455d-983a-3ddc316e019e",
   "metadata": {},
   "outputs": [],
   "source": [
    "from mkids import TopSoc"
   ]
  },
  {
   "cell_type": "code",
   "execution_count": null,
   "id": "05f46cd4-63c4-4c14-97f6-4fe0fd5445ed",
   "metadata": {},
   "outputs": [],
   "source": [
    "soc = TopSoc()"
   ]
  },
  {
   "cell_type": "code",
   "execution_count": null,
   "id": "6b3ecfd1-20bf-4a54-b580-e52e23e407f3",
   "metadata": {},
   "outputs": [],
   "source": [
    "fMixer = 1024.0\n",
    "soc.set_mixer(fMixer)"
   ]
  },
  {
   "cell_type": "code",
   "execution_count": null,
   "id": "b637368c-7c35-4943-8b58-b31700642eeb",
   "metadata": {},
   "outputs": [],
   "source": [
    "soc.get_mixer()"
   ]
  }
 ],
 "metadata": {
  "kernelspec": {
   "display_name": "Python 3",
   "language": "python",
   "name": "python3"
  },
  "language_info": {
   "codemirror_mode": {
    "name": "ipython",
    "version": 3
   },
   "file_extension": ".py",
   "mimetype": "text/x-python",
   "name": "python",
   "nbconvert_exporter": "python",
   "pygments_lexer": "ipython3",
   "version": "3.8.2"
  }
 },
 "nbformat": 4,
 "nbformat_minor": 5
}

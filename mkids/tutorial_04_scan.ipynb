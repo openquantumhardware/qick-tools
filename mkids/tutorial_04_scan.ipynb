{
 "cells": [
  {
   "cell_type": "markdown",
   "id": "41ded41e-d25b-40b4-966e-9d94851dddf0",
   "metadata": {},
   "source": [
    "Demonstrate functions in Scan"
   ]
  },
  {
   "cell_type": "code",
   "execution_count": null,
   "id": "0396b8c1-223b-408b-9338-9b0ed2fe1d07",
   "metadata": {},
   "outputs": [],
   "source": [
    "import importlib\n",
    "from mkids import TopSoc\n",
    "import numpy as np\n",
    "import matplotlib.pyplot as plt\n",
    "import Scan\n",
    "soc = TopSoc()"
   ]
  },
  {
   "cell_type": "code",
   "execution_count": null,
   "id": "78f105fc-77ec-4f88-936c-5cae81e9e690",
   "metadata": {},
   "outputs": [],
   "source": [
    "importlib.reload(Scan)\n",
    "scan = Scan.Scan(soc)"
   ]
  },
  {
   "cell_type": "code",
   "execution_count": null,
   "id": "c7a78822-f64e-4f9d-8482-ebfdd7f4de90",
   "metadata": {},
   "outputs": [],
   "source": [
    "fMixer = soc.fsIn/2/2\n",
    "soc.set_mixer(fMixer)"
   ]
  },
  {
   "cell_type": "code",
   "execution_count": null,
   "id": "b261ada5-1ccd-4951-8206-a453c5f38ebf",
   "metadata": {},
   "outputs": [],
   "source": [
    "fTone = fMixer + soc.fsOut/np.pi + 0.523\n",
    "#fTone = 500.3\n",
    "print(\"fTone =\",fTone)\n",
    "inCh,inOffset = soc.inFreq2chOffset(fTone)\n",
    "outCh,outOffset = soc.outFreq2chOffset(fTone)\n",
    "print(\"fTone = %.6f MHz\"%fTone)\n",
    "print(\"  inCh=%4d    inOffset=%+.6f\"%(inCh, inOffset))\n",
    "print(\" outCh=%4d   outOffset=%+.6f\"%(outCh, outOffset))"
   ]
  },
  {
   "cell_type": "code",
   "execution_count": null,
   "id": "feb65c46-208e-422b-ad20-e48f6b78f4b1",
   "metadata": {},
   "outputs": [],
   "source": [
    "importlib.reload(Scan)\n",
    "scan = Scan.Scan(soc)\n",
    "tones = np.array([fTone])\n",
    "amplitudes = 0.9*np.ones(len(tones))/len(tones)\n",
    "fis = 0*np.ones(len(tones))\n",
    "scan.setTones(tones, amplitudes, fis)\n",
    "decimation=2\n",
    "scan.prepRead(decimation)\n"
   ]
  },
  {
   "cell_type": "code",
   "execution_count": null,
   "id": "5bb3f9dc-dc96-40cd-8089-13682c7ef475",
   "metadata": {},
   "outputs": [],
   "source": [
    "xs = scan.read()\n",
    "xi = xs[0,:,0]\n",
    "xq = xs[0,:,1]\n",
    "plt.plot(xi)\n",
    "plt.plot(xq)"
   ]
  },
  {
   "cell_type": "code",
   "execution_count": null,
   "id": "ea270cca-9d38-4132-8b4d-d2757fd6cbff",
   "metadata": {},
   "outputs": [],
   "source": [
    "xs = scan.read()\n",
    "xi = xs[0,:,0]\n",
    "xq = xs[0,:,1]\n",
    "plt.plot(xi)\n",
    "plt.plot(xq)"
   ]
  },
  {
   "cell_type": "code",
   "execution_count": null,
   "id": "2dad6157-65aa-40eb-8525-2229f7026140",
   "metadata": {},
   "outputs": [],
   "source": [
    "xs = scan.read()\n",
    "xi = xs[0,:,0]\n",
    "xq = xs[0,:,1]\n",
    "plt.plot(xi)\n",
    "plt.plot(xq)"
   ]
  }
 ],
 "metadata": {
  "kernelspec": {
   "display_name": "Python 3",
   "language": "python",
   "name": "python3"
  },
  "language_info": {
   "codemirror_mode": {
    "name": "ipython",
    "version": 3
   },
   "file_extension": ".py",
   "mimetype": "text/x-python",
   "name": "python",
   "nbconvert_exporter": "python",
   "pygments_lexer": "ipython3",
   "version": "3.8.2"
  }
 },
 "nbformat": 4,
 "nbformat_minor": 5
}

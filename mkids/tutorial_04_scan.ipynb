{
 "cells": [
  {
   "cell_type": "markdown",
   "id": "41ded41e-d25b-40b4-966e-9d94851dddf0",
   "metadata": {},
   "source": [
    "Demonstrate functions in Scan for setting and reading tones.  Readback can give all samples or the mean.\n",
    "\n",
    "Note that after setting new tones, the first samples are \"left over\" from previous reads.  The paramter \"iBegin\" can be used to remove these samples from the returned values or average."
   ]
  },
  {
   "cell_type": "code",
   "execution_count": null,
   "id": "0396b8c1-223b-408b-9338-9b0ed2fe1d07",
   "metadata": {},
   "outputs": [],
   "source": [
    "import importlib\n",
    "from mkids import TopSoc\n",
    "import numpy as np\n",
    "import matplotlib.pyplot as plt\n",
    "from tqdm.notebook import trange, tqdm\n",
    "import pandas as pd\n",
    "import Scan\n",
    "soc = TopSoc()"
   ]
  },
  {
   "cell_type": "code",
   "execution_count": null,
   "id": "f747e2f8-6aa8-4bd5-9741-957a98c37ee5",
   "metadata": {},
   "outputs": [],
   "source": [
    "scan = Scan.Scan(soc)\n",
    "fMixer = soc.fsIn/2/2\n",
    "scan.soc.set_mixer(fMixer)"
   ]
  },
  {
   "cell_type": "code",
   "execution_count": null,
   "id": "0fa947a5-bd76-462a-82ed-da862528b620",
   "metadata": {},
   "outputs": [],
   "source": [
    "# Setup tones that are in nearby channels, to fully test multi-tone readout\n",
    "f0 = fMixer + 1.4\n",
    "nTones = 10\n",
    "freqs = f0 + 0.1 + np.arange(nTones)*(1.2*soc.fcOut+0.01)\n",
    "# Move one tone away from the others\n",
    "freqs[0] += 34.56\n",
    "freqs[3] -= 123.456\n",
    "\n",
    "inCh, dds_freq, pfb_freq, ch = soc.pfb_in.freq2ch(freqs)   \n",
    "outCh, outOffset = soc.outFreq2chOffset(freqs)\n",
    "inCh, inOffset = soc.inFreq2chOffset(freqs)\n",
    "data = np.transpose(np.array([freqs, outCh, outOffset, inCh, inOffset]))\n",
    "pd.DataFrame(data, columns=[\"freq\",\"outCh\",\"outOffset\", \"inCh\", \"inOffset\"])"
   ]
  },
  {
   "cell_type": "code",
   "execution_count": null,
   "id": "777e6501-faf3-4ae3-b172-25c8be526126",
   "metadata": {},
   "outputs": [],
   "source": [
    "amps = 0.9*np.ones(len(freqs))/len(freqs)\n",
    "fis = 1+(0.1*np.arange(len(freqs)))\n",
    "scan.setTones(freqs, amps, fis)\n",
    "decimation = 2\n",
    "scan.prepRead(decimation)\n",
    "\n",
    "nt = 1\n",
    "nsamp = 2000\n",
    "truncate = 1000\n",
    "x = scan.readAndUnpack(nt=nt, nsamp=nsamp,unpackVerbose=True)"
   ]
  },
  {
   "cell_type": "code",
   "execution_count": null,
   "id": "af2909c6-f5f6-4ee5-9e0e-e5e83ad9149b",
   "metadata": {},
   "outputs": [],
   "source": [
    "it = 0\n",
    "for iTone in range(len(x[it])):\n",
    "    plt.plot(np.abs(x[it][iTone]), label=\"f=%f\"%(freqs[iTone]))\n",
    "plt.legend()\n",
    "plt.ylabel(\"Amplitude (ADUs)\")"
   ]
  },
  {
   "cell_type": "code",
   "execution_count": null,
   "id": "fb77e408-d61a-4985-866e-68235b7268a6",
   "metadata": {},
   "outputs": [],
   "source": [
    "it = 0\n",
    "for iTone in range(len(x[it])):\n",
    "    plt.plot(np.angle(x[it][iTone]), label=\"f=%f\"%(freqs[iTone]))\n",
    "plt.legend()\n",
    "plt.ylabel(\"Phase (Radians)\")"
   ]
  },
  {
   "cell_type": "code",
   "execution_count": null,
   "id": "38d64b36-98d4-4e7b-821d-be77b406ed5d",
   "metadata": {},
   "outputs": [],
   "source": [
    "subtractInputPhase=False\n",
    "\n",
    "# Setup tones that are in nearby channels, to fully test multi-tone readout\n",
    "f0 = fMixer + 1.4\n",
    "nTones = 10\n",
    "freqs = f0 + 0.1 + np.arange(nTones)*(1.2*soc.fcOut+0.01)\n",
    "# Move one tone away from the others\n",
    "freqs[0] += 34.56\n",
    "freqs[3] -= 123.456\n",
    "amps = 0.9*np.ones(len(freqs))/len(freqs)\n",
    "fis = 1+(0.1*np.arange(len(freqs)))\n",
    "scan.setTones(freqs, amps, fis)\n",
    "decimation = 2\n",
    "scan.prepRead(decimation)\n",
    "nt = 2\n",
    "nsamp = 20000\n",
    "truncate = 1000\n",
    "x = scan.readAndUnpack(nt=nt, nsamp=nsamp, subtractInputPhase=subtractInputPhase)"
   ]
  },
  {
   "cell_type": "code",
   "execution_count": null,
   "id": "5ca64463-c03b-43a0-9627-886515f3a412",
   "metadata": {},
   "outputs": [],
   "source": [
    "iTone = 0\n",
    "for it in range(nt):\n",
    "    plt.plot(np.angle(x[it][iTone]), label=\"it=%d iTone=%d\"%(it,iTone), alpha=0.2)\n",
    "plt.legend()"
   ]
  },
  {
   "cell_type": "code",
   "execution_count": null,
   "id": "c72308a3-9149-4322-b792-2123ea2c7699",
   "metadata": {},
   "outputs": [],
   "source": [
    "#test average=True in unpack\n",
    "verbose = True\n",
    "average=True\n",
    "iBegin=0\n",
    "xa = scan.unpack(verbose, average, subtractInputPhase, iBegin)"
   ]
  },
  {
   "cell_type": "code",
   "execution_count": null,
   "id": "1580de95-0e41-4f42-91db-522875258484",
   "metadata": {},
   "outputs": [],
   "source": [
    "xa.shape"
   ]
  },
  {
   "cell_type": "code",
   "execution_count": null,
   "id": "bb1da49a-1edf-4674-a1d8-196902ac2f5b",
   "metadata": {},
   "outputs": [],
   "source": [
    "iTone = 3\n",
    "for it in range(nt):\n",
    "    plt.plot(np.angle(x[it][iTone]), label=\"it=%d iTone=%d\"%(it,iTone), alpha=0.2)\n",
    "    plt.axhline(np.angle(xa[iTone]), c='r')\n",
    "plt.legend()\n",
    "plt.ylabel(\"Phase [Radians]\")\n",
    "plt.title(\"red line is mean of both reads\")"
   ]
  },
  {
   "cell_type": "code",
   "execution_count": null,
   "id": "bfcea3ab-a788-405c-8c73-fe5b1774199a",
   "metadata": {},
   "outputs": [],
   "source": []
  }
 ],
 "metadata": {
  "kernelspec": {
   "display_name": "Python 3",
   "language": "python",
   "name": "python3"
  },
  "language_info": {
   "codemirror_mode": {
    "name": "ipython",
    "version": 3
   },
   "file_extension": ".py",
   "mimetype": "text/x-python",
   "name": "python",
   "nbconvert_exporter": "python",
   "pygments_lexer": "ipython3",
   "version": "3.8.2"
  }
 },
 "nbformat": 4,
 "nbformat_minor": 5
}

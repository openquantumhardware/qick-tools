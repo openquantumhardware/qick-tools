{
 "cells": [
  {
   "cell_type": "markdown",
   "id": "41ded41e-d25b-40b4-966e-9d94851dddf0",
   "metadata": {},
   "source": [
    "Frequency scan.  Subtract off input phase, but no other corrections."
   ]
  },
  {
   "cell_type": "code",
   "execution_count": null,
   "id": "0396b8c1-223b-408b-9338-9b0ed2fe1d07",
   "metadata": {},
   "outputs": [],
   "source": [
    "import importlib\n",
    "from mkids import TopSoc\n",
    "import numpy as np\n",
    "import matplotlib.pyplot as plt\n",
    "import Scan\n",
    "soc = TopSoc()"
   ]
  },
  {
   "cell_type": "code",
   "execution_count": null,
   "id": "78f105fc-77ec-4f88-936c-5cae81e9e690",
   "metadata": {},
   "outputs": [],
   "source": [
    "importlib.reload(Scan)\n",
    "scan = Scan.Scan(soc)"
   ]
  },
  {
   "cell_type": "code",
   "execution_count": null,
   "id": "c7a78822-f64e-4f9d-8482-ebfdd7f4de90",
   "metadata": {},
   "outputs": [],
   "source": [
    "fMixer = soc.fsIn/2/2\n",
    "soc.set_mixer(fMixer)"
   ]
  },
  {
   "cell_type": "code",
   "execution_count": null,
   "id": "b261ada5-1ccd-4951-8206-a453c5f38ebf",
   "metadata": {},
   "outputs": [],
   "source": [
    "fTone = fMixer + soc.fsOut/np.pi + 10.123\n",
    "#fTone = 500.3\n",
    "print(\"fTone =\",fTone)\n",
    "inCh,inOffset = soc.inFreq2chOffset(fTone)\n",
    "outCh,outOffset = soc.outFreq2chOffset(fTone)\n",
    "print(\"fTone = %.6f MHz\"%fTone)\n",
    "print(\"  inCh=%4d    inOffset=%+.6f\"%(inCh, inOffset))\n",
    "print(\" outCh=%4d   outOffset=%+.6f\"%(outCh, outOffset))"
   ]
  },
  {
   "cell_type": "code",
   "execution_count": null,
   "id": "feb65c46-208e-422b-ad20-e48f6b78f4b1",
   "metadata": {},
   "outputs": [],
   "source": [
    "importlib.reload(Scan)\n",
    "scan = Scan.Scan(soc)\n",
    "freqs = np.array([fTone, fTone+12.345])\n",
    "amplitudes = 0.9*np.ones(len(freqs))/len(freqs)\n",
    "fis = np.sqrt(2)*np.arange(len(freqs))\n",
    "bandwidth=0.00001\n",
    "nf=100\n",
    "decimation=2\n",
    "nt=1\n",
    "iBegin = 500\n",
    "fscan = scan.fscan(freqs, amplitudes, fis, bandwidth, nf,\n",
    "                  decimation, nt, iBegin=500, doProgress=True, retainPackets=True)\n"
   ]
  },
  {
   "cell_type": "code",
   "execution_count": null,
   "id": "a36013c8-f0ef-46a9-8c25-f2e28abc9fd7",
   "metadata": {},
   "outputs": [],
   "source": [
    "Scan.fscanPlot(fscan,0)"
   ]
  }
 ],
 "metadata": {
  "kernelspec": {
   "display_name": "Python 3",
   "language": "python",
   "name": "python3"
  },
  "language_info": {
   "codemirror_mode": {
    "name": "ipython",
    "version": 3
   },
   "file_extension": ".py",
   "mimetype": "text/x-python",
   "name": "python",
   "nbconvert_exporter": "python",
   "pygments_lexer": "ipython3",
   "version": "3.8.2"
  }
 },
 "nbformat": 4,
 "nbformat_minor": 5
}

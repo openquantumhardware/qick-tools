{
 "cells": [
  {
   "cell_type": "markdown",
   "id": "ab900314-9f68-433d-b514-af6d8c095e1f",
   "metadata": {},
   "source": [
    "Show tone frequency corresponds to input and output channel numbers."
   ]
  },
  {
   "cell_type": "code",
   "execution_count": null,
   "id": "7dc87aae-7b3c-455d-983a-3ddc316e019e",
   "metadata": {},
   "outputs": [],
   "source": [
    "import numpy as np\n",
    "import matplotlib.pyplot as plt\n",
    "from mkids import TopSoc"
   ]
  },
  {
   "cell_type": "code",
   "execution_count": null,
   "id": "05f46cd4-63c4-4c14-97f6-4fe0fd5445ed",
   "metadata": {},
   "outputs": [],
   "source": [
    "soc = TopSoc()"
   ]
  },
  {
   "cell_type": "code",
   "execution_count": null,
   "id": "17db1ce7-1f81-4cd6-8227-d5965e984301",
   "metadata": {},
   "outputs": [],
   "source": [
    "f0 = 100\n",
    "f1 = 103\n",
    "inFreqs = np.linspace(f0, f1)\n",
    "inChs = soc.inFreq2ch(inFreqs)\n",
    "plt.plot(inFreqs, inChs, \"o\", label=\"from freq->ch\")\n",
    "inChs2 = np.arange(inChs.min(),inChs.max()+1)\n",
    "print(inChs2)\n",
    "inFreqs2 = soc.inCh2FreqCenter(inChs2)\n",
    "plt.plot(inFreqs2, inChs2, \"rx\", label=\"from ch->freq\")\n",
    "plt.xlabel(\"frequency\")\n",
    "plt.ylabel(\"input channel\")\n",
    "plt.legend()"
   ]
  },
  {
   "cell_type": "code",
   "execution_count": null,
   "id": "b5432118-d653-4a48-a767-d0e60b8ae7fb",
   "metadata": {},
   "outputs": [],
   "source": [
    "ch = np.array(2249.0)\n",
    "print(\"ch =\",ch)\n",
    "fc = soc.pfb_in.fc\n",
    "print(\"fc =\",fc)\n",
    "fs = soc.pfb_in.fs\n",
    "print(\"fs =\",fs)\n",
    "freq = ch*fc - fs/2\n",
    "print(\"freq =\",freq)\n",
    "print(\"soc.pfb_in.ch2freq(ch) =\",soc.pfb_in.ch2freq(ch))\n",
    "print(\"soc.inCh2FreqCenter(ch) =\",soc.inCh2FreqCenter(ch))"
   ]
  },
  {
   "cell_type": "code",
   "execution_count": null,
   "id": "6bd5e9fe-b6cb-48b5-88ac-a4420730db22",
   "metadata": {},
   "outputs": [],
   "source": [
    "allInChs = np.arange(soc.nInCh)\n",
    "allInFreqs = soc.inCh2FreqCenter(allInChs)\n",
    "testAllInChs, testOffsets = soc.inFreq2chOffset(allInFreqs)\n",
    "plt.plot(allInChs, allInFreqs)\n",
    "plt.xlabel(\"input channel number\")\n",
    "plt.ylabel(\"input frequency (MHz)\")\n",
    "_ = plt.title(soc.board)"
   ]
  },
  {
   "cell_type": "code",
   "execution_count": null,
   "id": "b2e5b313-b596-430f-9dff-b917cd34ff1f",
   "metadata": {},
   "outputs": [],
   "source": [
    "# Should be True, since we converted from channel to frequncy and back to channel \n",
    "np.array_equal(allInChs, testAllInChs)"
   ]
  },
  {
   "cell_type": "code",
   "execution_count": null,
   "id": "5964536a-9ff8-496a-9466-5e7a3bb4ed6a",
   "metadata": {},
   "outputs": [],
   "source": [
    "# Should be True, since the freqencies calculate from channel number are at the center of the channel\n",
    "np.allclose(testOffsets, np.zeros(soc.nInCh))"
   ]
  },
  {
   "cell_type": "code",
   "execution_count": null,
   "id": "2f15d6f2-142e-4305-ba39-aa5f2b3c888f",
   "metadata": {},
   "outputs": [],
   "source": [
    "# Set the mixer to the center of the input band\n",
    "fMixer = soc.fsIn/2\n",
    "soc.set_mixer(fMixer)\n"
   ]
  },
  {
   "cell_type": "code",
   "execution_count": null,
   "id": "a4fb8c9e-7f17-4390-81ae-105818ea60bd",
   "metadata": {},
   "outputs": [],
   "source": [
    "allOutChs = np.arange(soc.nOutCh)\n",
    "allOutFreqs = soc.outCh2FreqCenter(allOutChs)\n",
    "testAllOutChs, testOffsets = soc.outFreq2chOffset(allOutFreqs)\n",
    "plt.plot(allOutChs, allOutFreqs)\n",
    "plt.xlabel(\"output channel number\")\n",
    "plt.ylabel(\"output frequency (MHz)\")\n",
    "_ = plt.title(\"%s  with fMixer=%.2f MHz\"%(soc.board, soc.get_mixer()))"
   ]
  },
  {
   "cell_type": "code",
   "execution_count": null,
   "id": "c6d8aa41-44e7-4216-9294-8f3eb3336cfe",
   "metadata": {},
   "outputs": [],
   "source": [
    "# Should be True, since we converted from channel to frequency and back to channel \n",
    "np.array_equal(allOutChs, testAllOutChs)"
   ]
  },
  {
   "cell_type": "code",
   "execution_count": null,
   "id": "d01a901d-e3b3-4245-af23-659c96d10c0a",
   "metadata": {},
   "outputs": [],
   "source": [
    "# Should be True, since the frequencies calculate from channel number are at the center of the channel\n",
    "np.allclose(testOffsets, np.zeros(soc.nOutCh))"
   ]
  },
  {
   "cell_type": "code",
   "execution_count": null,
   "id": "da657e30-f17f-4f2d-b10d-42f8c1de9a6f",
   "metadata": {},
   "outputs": [],
   "source": [
    "\n",
    "allOutChsa = np.arange(soc.nOutCh)\n",
    "allOutFreqsa = soc.outCh2FreqCenter(allOutChsa)\n",
    "testAllOutChsa = soc.outFreq2ch(allOutFreqsa)\n",
    "plt.plot(allOutChsa, allOutFreqsa)\n",
    "plt.xlabel(\"output channel number\")\n",
    "plt.ylabel(\"output frequency (MHz)\")\n",
    "_ = plt.title(\"%s  with fMixer=%.2f MHz\"%(soc.board, soc.get_mixer()))"
   ]
  },
  {
   "cell_type": "code",
   "execution_count": null,
   "id": "bcc5bfa1-2a11-4b76-8dec-b8ec03a6bb75",
   "metadata": {},
   "outputs": [],
   "source": [
    "# Should be True, since we converted from channel to frequency and back to channel \n",
    "np.array_equal(allOutChsa, testAllOutChsa)"
   ]
  },
  {
   "cell_type": "code",
   "execution_count": null,
   "id": "be930f2b-94e5-4e54-887f-55629777ca1d",
   "metadata": {},
   "outputs": [],
   "source": [
    "fMixer = soc.fsIn/2/2\n",
    "soc.set_mixer(fMixer)\n",
    "\n",
    "toneFreq = 1026.0999755859375\n",
    "print(\"inCh, dds_freq, pfb_freq, ch = \",soc.pfb_in.freq2ch(toneFreq))\n",
    "print(\"inCh, offset = \",soc.inFreq2chOffset(toneFreq))"
   ]
  }
 ],
 "metadata": {
  "kernelspec": {
   "display_name": "Python 3",
   "language": "python",
   "name": "python3"
  },
  "language_info": {
   "codemirror_mode": {
    "name": "ipython",
    "version": 3
   },
   "file_extension": ".py",
   "mimetype": "text/x-python",
   "name": "python",
   "nbconvert_exporter": "python",
   "pygments_lexer": "ipython3",
   "version": "3.8.2"
  }
 },
 "nbformat": 4,
 "nbformat_minor": 5
}
